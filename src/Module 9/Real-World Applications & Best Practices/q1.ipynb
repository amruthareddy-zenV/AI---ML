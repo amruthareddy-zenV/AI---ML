{
 "cells": [
  {
   "cell_type": "code",
   "execution_count": null,
   "metadata": {},
   "outputs": [],
   "source": [
    "# Question 1: Healthcare: Predicting Diabetes Onset\n",
    "# Description:\n",
    "# Use the Pima Indian Diabetes dataset to predict whether a patient has diabetes based on their medical attributes."
   ]
  }
 ],
 "metadata": {
  "language_info": {
   "name": "python"
  }
 },
 "nbformat": 4,
 "nbformat_minor": 2
}
