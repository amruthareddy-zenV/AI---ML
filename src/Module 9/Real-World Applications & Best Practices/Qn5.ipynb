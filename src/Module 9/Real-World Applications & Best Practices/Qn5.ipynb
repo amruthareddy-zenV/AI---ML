{
 "cells": [
  {
   "cell_type": "code",
   "execution_count": null,
   "metadata": {},
   "outputs": [],
   "source": [
    "# Title : Challenges in Training Deep Learning Models\n",
    "\n",
    "# 2.Computational Complexity\n",
    "\n",
    "# Task 1: Model Optimization\n",
    "# Objective: Evaluate model inference time for different architectures.\n",
    "# Practice: Compare fully connected layers with CNN layers in terms of computational cost.\n",
    "\n",
    "# Task 2: Resource Management with Batch Size\n",
    "# Objective: Experiment with different batch sizes to balance memory usage and computational speed.\n",
    "# Practice: Monitor GPU utilization and discuss trade-offs.\n",
    "\n",
    "# Task 3: Quantization Techniques\n",
    "# Objective: Implement model quantization to reduce model size and speed up inference.\n",
    "# Practice: Compare model performance, before and after quantization."
   ]
  }
 ],
 "metadata": {
  "language_info": {
   "name": "python"
  }
 },
 "nbformat": 4,
 "nbformat_minor": 2
}
