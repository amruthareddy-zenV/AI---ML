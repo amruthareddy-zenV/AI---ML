{
 "cells": [
  {
   "cell_type": "code",
   "execution_count": null,
   "metadata": {},
   "outputs": [],
   "source": [
    "# Question 8: NLP: Build a Simple Seq2Seq Model for Questions\n",
    "# Description:\n",
    "# Build a simple sequence-to-sequence model for generating responses to simple questions."
   ]
  }
 ],
 "metadata": {
  "language_info": {
   "name": "python"
  }
 },
 "nbformat": 4,
 "nbformat_minor": 2
}
