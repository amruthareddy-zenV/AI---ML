{
 "cells": [
  {
   "cell_type": "code",
   "execution_count": null,
   "metadata": {},
   "outputs": [],
   "source": [
    "# Question 4: Handling Overfitting: Use Dropout in a Simple Model\n",
    "# Description:\n",
    "# Learn how to use Dropout to prevent overfitting in a neural network."
   ]
  }
 ],
 "metadata": {
  "language_info": {
   "name": "python"
  }
 },
 "nbformat": 4,
 "nbformat_minor": 2
}
