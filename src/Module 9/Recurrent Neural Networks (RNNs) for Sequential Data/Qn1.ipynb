{
 "cells": [
  {
   "cell_type": "code",
   "execution_count": null,
   "metadata": {},
   "outputs": [],
   "source": [
    "# Title : Why Use RNNs for Sequential Data?\n",
    "# Objective: Understand why RNNs are suitable for sequential data processing.\n",
    "\n",
    "# Task 1 :Text Prediction \n",
    "# 1. Trainer Action: Explain how text prediction uses previous words in a sequence to predict \n",
    "# the next word, relying on the sequential nature of sentences. \n",
    "# 2. Student Practice: Review a sequence of words and attempt to predict the next word using \n",
    "# manual observation before learning model prediction."
   ]
  }
 ],
 "metadata": {
  "language_info": {
   "name": "python"
  }
 },
 "nbformat": 4,
 "nbformat_minor": 2
}
