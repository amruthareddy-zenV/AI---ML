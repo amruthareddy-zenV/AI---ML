{
 "cells": [
  {
   "cell_type": "code",
   "execution_count": null,
   "metadata": {},
   "outputs": [],
   "source": [
    "# Title : Why Use RNNs for Sequential Data?\n",
    "# Objective: Understand why RNNs are suitable for sequential data processing.\n",
    "\n",
    "# Task 2: Weather Forecasting \n",
    "# 1. Trainer Action: Describe how temperature over days is a sequence where past \n",
    "# temperatures can inform future predictions. \n",
    "# 2. Student Practice: Chart temperature data over a week and draw possible conclusions \n",
    "# about upcoming weather. "
   ]
  }
 ],
 "metadata": {
  "language_info": {
   "name": "python"
  }
 },
 "nbformat": 4,
 "nbformat_minor": 2
}
