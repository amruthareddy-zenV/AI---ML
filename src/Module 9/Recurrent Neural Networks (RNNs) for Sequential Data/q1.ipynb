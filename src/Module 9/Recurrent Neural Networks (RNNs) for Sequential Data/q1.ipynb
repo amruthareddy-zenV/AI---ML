{
 "cells": [
  {
   "cell_type": "code",
   "execution_count": null,
   "metadata": {},
   "outputs": [],
   "source": [
    "# Question 1: Understanding Simple RNN Architecture\n",
    "# Description: Create a simple RNN model using TensorFlow/Keras and explain each\n",
    "# component of the architecture."
   ]
  }
 ],
 "metadata": {
  "language_info": {
   "name": "python"
  }
 },
 "nbformat": 4,
 "nbformat_minor": 2
}
