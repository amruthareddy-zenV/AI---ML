{
 "cells": [
  {
   "cell_type": "code",
   "execution_count": null,
   "metadata": {},
   "outputs": [],
   "source": [
    "# Title : Why Use RNNs for Sequential Data?\n",
    "# Objective: Understand why RNNs are suitable for sequential data processing.\n",
    "\n",
    "# Task 3: Stock Price Analysis\n",
    "# 1. Trainer Action: Discuss how stock prices recorded over time are sequential data that can\n",
    "# be processed to forecast future prices.\n",
    "# 2. Student Practice: Graph a stock's historical prices and hypothesize future trends using\n",
    "# visible patterns."
   ]
  }
 ],
 "metadata": {
  "language_info": {
   "name": "python"
  }
 },
 "nbformat": 4,
 "nbformat_minor": 2
}
