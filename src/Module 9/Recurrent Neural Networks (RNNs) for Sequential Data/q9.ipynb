{
 "cells": [
  {
   "cell_type": "code",
   "execution_count": null,
   "metadata": {},
   "outputs": [],
   "source": [
    "# Question 9: Implementing Bidirectional LSTM\n",
    "# Description: \n",
    "# Implement a Bidirectional LSTM for sentiment analysis on a complex text dataset and compare performance with a unidirectional LSTM."
   ]
  }
 ],
 "metadata": {
  "language_info": {
   "name": "python"
  }
 },
 "nbformat": 4,
 "nbformat_minor": 2
}
