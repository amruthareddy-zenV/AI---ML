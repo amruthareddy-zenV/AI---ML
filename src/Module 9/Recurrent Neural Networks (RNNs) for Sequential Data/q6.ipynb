{
 "cells": [
  {
   "cell_type": "code",
   "execution_count": null,
   "metadata": {},
   "outputs": [],
   "source": [
    "# Question 6: Sentiment Analysis using LSTMs\n",
    "# Description: Use an LSTM model to perform sentiment analysis on a sample text dataset."
   ]
  }
 ],
 "metadata": {
  "language_info": {
   "name": "python"
  }
 },
 "nbformat": 4,
 "nbformat_minor": 2
}
