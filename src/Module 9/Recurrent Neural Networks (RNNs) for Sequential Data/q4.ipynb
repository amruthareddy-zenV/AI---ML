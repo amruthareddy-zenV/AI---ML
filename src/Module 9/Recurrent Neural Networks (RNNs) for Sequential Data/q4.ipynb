{
 "cells": [
  {
   "cell_type": "code",
   "execution_count": null,
   "metadata": {},
   "outputs": [],
   "source": [
    "# Question 4: Basics of LSTM Network\n",
    "# Description: Modify the RNN architecture to use LSTM layers and observe the changes.\n",
    "# Solution:"
   ]
  }
 ],
 "metadata": {
  "language_info": {
   "name": "python"
  }
 },
 "nbformat": 4,
 "nbformat_minor": 2
}
