{
 "cells": [
  {
   "cell_type": "code",
   "execution_count": null,
   "metadata": {},
   "outputs": [],
   "source": [
    "# Question 8: Creating Custom Kernels for Detecting Features\n",
    "# Description:\n",
    "# Create a convolution layer with a custom kernel to perform a specific task, like sharpening or\n",
    "# edge detection."
   ]
  }
 ],
 "metadata": {
  "language_info": {
   "name": "python"
  }
 },
 "nbformat": 4,
 "nbformat_minor": 2
}
