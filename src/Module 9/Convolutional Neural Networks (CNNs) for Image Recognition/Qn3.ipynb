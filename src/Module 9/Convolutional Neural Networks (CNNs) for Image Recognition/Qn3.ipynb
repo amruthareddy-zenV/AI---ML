{
 "cells": [
  {
   "cell_type": "code",
   "execution_count": null,
   "metadata": {},
   "outputs": [],
   "source": [
    "# Title : Layers in CNN \n",
    "\n",
    "#Pooling Layer \n",
    "\n",
    "# Task 1: Max Pooling vs. Average Pooling\n",
    "# Apply max pooling and average pooling to a feature map and compare the results.\n",
    "# Discuss why max pooling is more commonly used in CNNs.\n",
    "\n",
    "# Task 2: Pooling with Stride Variations\n",
    "# Modify the stride parameter in pooling operations to observe the effect on feature map size.\n",
    "# Analyze how stride impacts down-sampling and feature abstraction.\n",
    "\n",
    "# Task 3: Impact on Model Performance\n",
    "# Train a CNN with and without pooling layers on a small dataset.\n",
    "# Compare model performance in terms of accuracy and computational cost.\n",
    "\n",
    "\n"
   ]
  }
 ],
 "metadata": {
  "language_info": {
   "name": "python"
  }
 },
 "nbformat": 4,
 "nbformat_minor": 2
}
