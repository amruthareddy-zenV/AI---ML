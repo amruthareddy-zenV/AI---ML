{
 "cells": [
  {
   "cell_type": "code",
   "execution_count": null,
   "metadata": {},
   "outputs": [],
   "source": [
    "# Question 2: Implementing a Simple CNN using Keras\n",
    "# Description:\n",
    "# Implement a simple CNN using the Keras library to classify the MNIST dataset of handwritten\n",
    "# digits."
   ]
  }
 ],
 "metadata": {
  "language_info": {
   "name": "python"
  }
 },
 "nbformat": 4,
 "nbformat_minor": 2
}
