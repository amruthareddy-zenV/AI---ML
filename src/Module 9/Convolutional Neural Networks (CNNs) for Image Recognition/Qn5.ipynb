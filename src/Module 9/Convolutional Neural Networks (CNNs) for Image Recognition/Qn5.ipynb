{
 "cells": [
  {
   "cell_type": "code",
   "execution_count": null,
   "metadata": {},
   "outputs": [],
   "source": [
    "# Title : How CNNs Detect Features in Images\n",
    "\n",
    "# Edge Detection\n",
    "\n",
    "# Task 1: Sobel Filters for Edge Detection\n",
    "# Apply Sobel filters to an input image and visualize the edges detected.\n",
    "# Experiment with horizontal and vertical edge detection separately.\n",
    "\n",
    "# Task 2: Edge Detection on Noisy Images\n",
    "# Add noise to an image and apply edge detection.\n",
    "# Observe how noise affects edge detection and propose solutions.\n",
    "\n",
    "# Task 3: Edge Detection Across Channels\n",
    "# Perform edge detection on different image channels (RGB) separately.\n",
    "# Discuss differences in edge representation across color channels."
   ]
  }
 ],
 "metadata": {
  "language_info": {
   "name": "python"
  }
 },
 "nbformat": 4,
 "nbformat_minor": 2
}
