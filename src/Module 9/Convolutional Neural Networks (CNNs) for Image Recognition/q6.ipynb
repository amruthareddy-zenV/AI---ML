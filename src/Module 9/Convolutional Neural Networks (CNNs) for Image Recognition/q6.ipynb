{
 "cells": [
  {
   "cell_type": "code",
   "execution_count": null,
   "metadata": {},
   "outputs": [],
   "source": [
    "# Question 6:Layer-wise Understanding and Modification\n",
    "# Description:\n",
    "# Modify a pre-trained CNN model to fine-tune it on a new dataset by adding or freezing certain layers."
   ]
  }
 ],
 "metadata": {
  "language_info": {
   "name": "python"
  }
 },
 "nbformat": 4,
 "nbformat_minor": 2
}
