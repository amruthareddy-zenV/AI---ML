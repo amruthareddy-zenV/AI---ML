{
 "cells": [
  {
   "cell_type": "code",
   "execution_count": null,
   "metadata": {},
   "outputs": [],
   "source": [
    "# Question 5: Understanding and Implementing Pooling Layers\n",
    "# Description:\n",
    "# Describe the purpose of pooling layers in a CNN and implement a MaxPooling layer in a simple CNN model."
   ]
  }
 ],
 "metadata": {
  "language_info": {
   "name": "python"
  }
 },
 "nbformat": 4,
 "nbformat_minor": 2
}
