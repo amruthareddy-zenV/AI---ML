{
 "cells": [
  {
   "cell_type": "code",
   "execution_count": null,
   "metadata": {},
   "outputs": [],
   "source": [
    "# Title : Layers in CNN \n",
    "\n",
    "# Convolution Layer\n",
    "\n",
    "# Task 1: Single Convolutional Layer\n",
    "# Experiment with adding a single convolutional layer to recognize horizontal and vertical edges in an image.\n",
    "# Visualize the resulting feature maps to understand how edges are detected.\n",
    "\n",
    "# Task 2: Visualizing Filters\n",
    "# Use a pre-trained CNN and visualize its filters on early layers, observing patterns like edges and textures.\n",
    "# Discuss the difference in feature complexity as layers deepen.\n",
    "\n",
    "# Task 3: Custom Kernels\n",
    "# Manually define custom kernels, such as edge detection or sharpening, apply them to an image, and observe changes in the feature map.\n",
    "# Analyze how specific features are emphasized or diminished."
   ]
  }
 ],
 "metadata": {
  "language_info": {
   "name": "python"
  }
 },
 "nbformat": 4,
 "nbformat_minor": 2
}
