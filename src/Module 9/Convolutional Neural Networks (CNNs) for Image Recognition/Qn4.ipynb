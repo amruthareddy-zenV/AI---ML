{
 "cells": [
  {
   "cell_type": "code",
   "execution_count": null,
   "metadata": {},
   "outputs": [],
   "source": [
    "# Title : Layers in CNN \n",
    "\n",
    "#Fully Connected Layer\n",
    "\n",
    "# Task 1: Final Classification Layer\n",
    "# Connect a CNN's convolutional base to a fully connected layer to perform final classification.\n",
    "# Discuss how this layer integrates spatial features for decision-making.\n",
    "\n",
    "# Task 2: Dimensionality Transition\n",
    "# Observe how dimensionality changes when transitioning from convolutional to fully connected layers.\n",
    "# Highlight the importance of flattening in this process.\n",
    "\n",
    "# Task 3: Overfitting Analysis\n",
    "# Experiment with varying sizes of the fully connected layer.\n",
    "# Analyze how large fully connected layers can lead to overfitting and implement dropout for regularization."
   ]
  }
 ],
 "metadata": {
  "language_info": {
   "name": "python"
  }
 },
 "nbformat": 4,
 "nbformat_minor": 2
}
