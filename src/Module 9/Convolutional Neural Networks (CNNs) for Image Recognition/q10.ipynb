{
 "cells": [
  {
   "cell_type": "code",
   "execution_count": null,
   "metadata": {},
   "outputs": [],
   "source": [
    "# Question 10: Feature Extraction using Pre-trained Models\n",
    "# Description:\n",
    "# Use a pre-trained model to extract features from an image dataset and apply another machine learning model (like SVM) for classification."
   ]
  }
 ],
 "metadata": {
  "language_info": {
   "name": "python"
  }
 },
 "nbformat": 4,
 "nbformat_minor": 2
}
