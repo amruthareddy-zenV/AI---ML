{
 "cells": [
  {
   "cell_type": "code",
   "execution_count": null,
   "metadata": {},
   "outputs": [],
   "source": [
    "# Title : How CNNs Detect Features in Images\n",
    "\n",
    "#Feature Maps & Kernels\n",
    "\n",
    "# Task 1: Visualizing Feature Maps\n",
    "# Visualize intermediate feature maps within a trained CNN for a given image input.\n",
    "# Discuss which parts of the image activate specific feature maps and why.\n",
    "\n",
    "# Task 2: Understanding Kernels\n",
    "# Analyze different kernel sizes and types, demonstrating their effects, such as blurring or sharpening, on an image's feature map.\n",
    "# Explore how modifying kernel properties alters feature extraction.\n",
    "\n",
    "# Task 3: Constructing and Applying Custom Kernels\n",
    "# Manually create custom kernels for specific operations like embossing or edge detection.\n",
    "# Process an image using these kernels to observe and learn about their applied transformations."
   ]
  }
 ],
 "metadata": {
  "language_info": {
   "name": "python"
  }
 },
 "nbformat": 4,
 "nbformat_minor": 2
}
