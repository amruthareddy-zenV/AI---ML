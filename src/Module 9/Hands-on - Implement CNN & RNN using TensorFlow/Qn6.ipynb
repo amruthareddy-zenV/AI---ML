{
 "cells": [
  {
   "cell_type": "code",
   "execution_count": null,
   "metadata": {},
   "outputs": [],
   "source": [
    "# Title : Part 2: Build an RNN for Sentiment Analysis\n",
    "\n",
    "# Task 3 : GRU for IMDB Reviews\n",
    "# Steps : \n",
    "# 1. Build the GRU Model\n",
    "# 2. Train and Evaluate the Model"
   ]
  }
 ],
 "metadata": {
  "language_info": {
   "name": "python"
  }
 },
 "nbformat": 4,
 "nbformat_minor": 2
}
