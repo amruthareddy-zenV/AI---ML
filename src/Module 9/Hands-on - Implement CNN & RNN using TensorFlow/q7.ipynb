{
 "cells": [
  {
   "cell_type": "code",
   "execution_count": null,
   "metadata": {},
   "outputs": [],
   "source": [
    "# Question 7: Forecasting with LSTMs\n",
    "# Description: \n",
    "# Use an LSTM to forecast future values in a time-series dataset."
   ]
  }
 ],
 "metadata": {
  "language_info": {
   "name": "python"
  }
 },
 "nbformat": 4,
 "nbformat_minor": 2
}
