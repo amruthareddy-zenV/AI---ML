{
 "cells": [
  {
   "cell_type": "code",
   "execution_count": null,
   "metadata": {},
   "outputs": [],
   "source": [
    "# Title : Part 2: Build an RNN for Sentiment Analysis\n",
    "\n",
    "# Task  1: Sentiment Analysis with IMDB Reviews\n",
    "# Steps : \n",
    "\n",
    "# 1. Load the Dataset:\n",
    "# 2. Build the RNN Model\n",
    "# 3. Train and Evaluate the Model"
   ]
  }
 ],
 "metadata": {
  "language_info": {
   "name": "python"
  }
 },
 "nbformat": 4,
 "nbformat_minor": 2
}
