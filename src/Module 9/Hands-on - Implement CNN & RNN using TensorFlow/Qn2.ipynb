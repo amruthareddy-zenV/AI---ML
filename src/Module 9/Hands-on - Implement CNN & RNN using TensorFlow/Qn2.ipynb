{
 "cells": [
  {
   "cell_type": "code",
   "execution_count": null,
   "metadata": {},
   "outputs": [],
   "source": [
    "# Title : Part 1: Build a CNN for Image Classification\n",
    "\n",
    "# Task 2: Classifying CIFAR-10 Images\n",
    "# Steps : \n",
    "\n",
    "# 1. Load the Dataset:\n",
    "# 2. Build the CNN Model\n",
    "# 3. Train and Evaluate the Model"
   ]
  }
 ],
 "metadata": {
  "language_info": {
   "name": "python"
  }
 },
 "nbformat": 4,
 "nbformat_minor": 2
}
