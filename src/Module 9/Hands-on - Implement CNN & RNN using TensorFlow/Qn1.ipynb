{
 "cells": [
  {
   "cell_type": "code",
   "execution_count": null,
   "metadata": {},
   "outputs": [],
   "source": [
    "# Title : Part 1: Build a CNN for Image Classification\n",
    "\n",
    "# Task 1 : Classifying Handwritten Digits (MNIST Dataset)\n",
    "# Steps: \n",
    "# 1. Load the Dataset\n",
    "# 2. Build the CNN Model\n",
    "# 3. Train and Evaluate the Model\n",
    "\n"
   ]
  }
 ],
 "metadata": {
  "language_info": {
   "name": "python"
  }
 },
 "nbformat": 4,
 "nbformat_minor": 2
}
