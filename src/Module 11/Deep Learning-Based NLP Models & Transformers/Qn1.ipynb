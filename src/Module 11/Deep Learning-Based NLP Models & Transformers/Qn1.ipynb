{
 "cells": [
  {
   "cell_type": "code",
   "execution_count": null,
   "metadata": {},
   "outputs": [],
   "source": [
    "# Title : Part 1: LSTMs for Sentiment Analysis\n",
    "\n",
    "# Task 1: Sentiment Analysis with IMDb Data\n",
    "# 1. Load the IMDb dataset using a library like torchtext or tensorflow_datasets .\n",
    "# 2. Preprocess the text by tokenizing sentences and padding them to a fixed length.\n",
    "# 3. Define an LSTM model with an embedding layer, LSTM layer, and a fully connected layer for output.\n",
    "# 4. Train the model on the training set and evaluate its performance on the validation set.\n",
    "# 5. Test the model on a separate test set and report accuracy."
   ]
  }
 ],
 "metadata": {
  "language_info": {
   "name": "python"
  }
 },
 "nbformat": 4,
 "nbformat_minor": 2
}
