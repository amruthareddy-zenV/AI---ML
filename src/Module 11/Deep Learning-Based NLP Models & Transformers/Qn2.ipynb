{
 "cells": [
  {
   "cell_type": "code",
   "execution_count": null,
   "metadata": {},
   "outputs": [],
   "source": [
    "# Title : Part 1: LSTMs for Sentiment Analysis\n",
    "\n",
    "# Task 2: Sentiment Analysis with Yelp Reviews\n",
    "\n",
    "# 1. Gather a dataset such as Yelp reviews using an open-source dataset library.\n",
    "# 2. Perform text preprocessing: lowercase text, remove stopwords, tokenize.\n",
    "# 3. Set up an LSTM architecture similar to a simple sentiment analysis setup.\n",
    "# 4. Train and validate: Split the data for training and validation, run multiple epochs, and observe improvements.\n",
    "# 5. Visualize results: Use a confusion matrix to better understand classification errors."
   ]
  }
 ],
 "metadata": {
  "language_info": {
   "name": "python"
  }
 },
 "nbformat": 4,
 "nbformat_minor": 2
}
