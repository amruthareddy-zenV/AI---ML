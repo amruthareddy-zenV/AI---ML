{
 "cells": [
  {
   "cell_type": "code",
   "execution_count": null,
   "metadata": {},
   "outputs": [],
   "source": [
    "# Title : BERT for Text Classification\n",
    "\n",
    "# Task 3 : Sentiment Classification on Social Media Posts\n",
    "\n",
    "# 1. Find a social media dataset with labeled sentiments.\n",
    "# 2. Tokenize using a pre-trained BERT tokenizer ensuring consistent input shapes.\n",
    "# 3. Adapt BERT for sentiment classification using transformers library.\n",
    "# 4. Fine-tune on the dataset, applying strategies like learning rate schedules.\n",
    "# 5. Assess results with detailed metrics and ROC curves."
   ]
  }
 ],
 "metadata": {
  "language_info": {
   "name": "python"
  }
 },
 "nbformat": 4,
 "nbformat_minor": 2
}
