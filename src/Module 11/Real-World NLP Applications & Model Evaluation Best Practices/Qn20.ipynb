{
 "cells": [
  {
   "cell_type": "code",
   "execution_count": null,
   "metadata": {},
   "outputs": [],
   "source": [
    "# Title : Part 3: Best Practices for Model Evaluation\n",
    "# 1.Using Precision-Recall Curve for Imbalanced Datasets\n",
    "\n",
    "# Task 2 : Assessing a Fraud Detection Model\n",
    "# Steps:\n",
    "# 1. Use a dataset with known fraudulent transactions.\n",
    "# 2. Build and train a fraud detection model.\n",
    "# 3. Generate and interpret precision-recall curves."
   ]
  }
 ],
 "metadata": {
  "language_info": {
   "name": "python"
  }
 },
 "nbformat": 4,
 "nbformat_minor": 2
}
