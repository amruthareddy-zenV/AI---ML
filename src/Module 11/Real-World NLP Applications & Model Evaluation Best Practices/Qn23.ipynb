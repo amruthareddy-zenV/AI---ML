{
 "cells": [
  {
   "cell_type": "code",
   "execution_count": null,
   "metadata": {},
   "outputs": [],
   "source": [
    "# Title : Part 3: Best Practices for Model Evaluation\n",
    "# 2.Comparing ML vs. Deep Learning Performance\n",
    "\n",
    "# Task 2 : Named Entity Recognition with CRF vs. Transformers\n",
    "# Steps:\n",
    "# 1. Use a benchmark NER dataset.\n",
    "# 2. Train using CRF and transformer models.\n",
    "# 3. Evaluate and compare results in terms of precision and recall.\n",
    "\n"
   ]
  }
 ],
 "metadata": {
  "language_info": {
   "name": "python"
  }
 },
 "nbformat": 4,
 "nbformat_minor": 2
}
