{
 "cells": [
  {
   "cell_type": "code",
   "execution_count": null,
   "metadata": {},
   "outputs": [],
   "source": [
    "# Title : Part 1: Applications of NLP in the Real World\n",
    "# 3. Healthcare (Medical NLP for Disease Prediction)\n",
    "\n",
    "# Task 3 : Developing a Symptom Checker Chatbot\n",
    "# Objective: Create a chatbot that suggests possible conditions based on symptoms.\n",
    "# Steps:\n",
    "# 1. Build a symptom-condition relational dataset.\n",
    "# 2. Use this dataset to train a symptom checker model.\n",
    "# 3. Develop a chatbot interface to collect symptoms and suggest potential conditions.\n",
    "\n"
   ]
  }
 ],
 "metadata": {
  "language_info": {
   "name": "python"
  }
 },
 "nbformat": 4,
 "nbformat_minor": 2
}
