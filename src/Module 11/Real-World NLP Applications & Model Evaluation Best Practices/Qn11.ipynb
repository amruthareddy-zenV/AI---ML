{
 "cells": [
  {
   "cell_type": "code",
   "execution_count": null,
   "metadata": {},
   "outputs": [],
   "source": [
    "# Title : Part 2: Challenges in NLP Model Evaluation\n",
    "# 1.Handling Bias in Text Datasets\n",
    "\n",
    "# Task 2 : Detecting Racial Bias in Sentiment Analysis Models\n",
    "# Steps:\n",
    "# 1. Create synthetic data representing different racial groups.\n",
    "# 2. Analyze sentiment scores for different racial contexts.\n",
    "# 3. Identify and mitigate bias by adjusting training data."
   ]
  }
 ],
 "metadata": {
  "language_info": {
   "name": "python"
  }
 },
 "nbformat": 4,
 "nbformat_minor": 2
}
