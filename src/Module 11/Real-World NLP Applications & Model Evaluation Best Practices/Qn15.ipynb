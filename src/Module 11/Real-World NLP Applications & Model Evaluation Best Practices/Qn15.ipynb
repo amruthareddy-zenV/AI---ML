{
 "cells": [
  {
   "cell_type": "code",
   "execution_count": null,
   "metadata": {},
   "outputs": [],
   "source": [
    "# Title : Part 2: Challenges in NLP Model Evaluation\n",
    "# 2.Dealing with Noisy & Imbalanced Data\n",
    "\n",
    "# Task 3: Addressing Imbalance in Sentiment Analysis\n",
    "# Steps:\n",
    "# 1. Evaluate class imbalance in product review datasets.\n",
    "# 2. Implement class-weighting or data resampling strategies.\n",
    "# 3. Compare model accuracy with and without rebalancing."
   ]
  }
 ],
 "metadata": {
  "language_info": {
   "name": "python"
  }
 },
 "nbformat": 4,
 "nbformat_minor": 2
}
