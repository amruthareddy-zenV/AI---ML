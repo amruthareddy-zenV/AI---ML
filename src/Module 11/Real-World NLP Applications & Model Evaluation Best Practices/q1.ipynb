{
 "cells": [
  {
   "cell_type": "code",
   "execution_count": null,
   "metadata": {},
   "outputs": [],
   "source": [
    "# Question 1: Building a Simple Rule-Based Chatbot\n",
    "# Description:\n",
    "# Create a simple rule-based chatbot that responds to greetings."
   ]
  }
 ],
 "metadata": {
  "language_info": {
   "name": "python"
  }
 },
 "nbformat": 4,
 "nbformat_minor": 2
}
