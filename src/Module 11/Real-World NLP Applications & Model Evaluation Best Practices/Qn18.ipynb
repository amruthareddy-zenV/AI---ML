{
 "cells": [
  {
   "cell_type": "code",
   "execution_count": null,
   "metadata": {},
   "outputs": [],
   "source": [
    "# Title : Part 2: Challenges in NLP Model Evaluation\n",
    "# 3.Choosing the Right Model Based on Task\n",
    "\n",
    "# Task 3 : Evaluating Models for Machine Translation\n",
    "# Steps:\n",
    "# 1. Collect parallel corpus data for translation tasks.\n",
    "# 2. Implement an NMT model and a rule-based model.\n",
    "# 3. Compare BLEU scores for both models to determine translation quality."
   ]
  }
 ],
 "metadata": {
  "language_info": {
   "name": "python"
  }
 },
 "nbformat": 4,
 "nbformat_minor": 2
}
