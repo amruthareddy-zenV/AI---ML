{
 "cells": [
  {
   "cell_type": "code",
   "execution_count": null,
   "metadata": {},
   "outputs": [],
   "source": [
    "# Title : Part 2: Challenges in NLP Model Evaluation\n",
    "# 2.Dealing with Noisy & Imbalanced Data\n",
    "\n",
    "# Task 2 : Cleaning Noisy Social Media Text Data\n",
    "# Steps:\n",
    "# 1. Identify common noise in social media text (e.g., hashtags, emojis).\n",
    "# 2. Pre-process data to remove noise.\n",
    "# 3. Assess the impact of cleaning on model accuracy."
   ]
  }
 ],
 "metadata": {
  "language_info": {
   "name": "python"
  }
 },
 "nbformat": 4,
 "nbformat_minor": 2
}
