{
 "cells": [
  {
   "cell_type": "code",
   "execution_count": null,
   "metadata": {},
   "outputs": [],
   "source": [
    "# Title : Part 2: Challenges in NLP Model Evaluation\n",
    "# 1.Handling Bias in Text Datasets\n",
    "\n",
    "# Task 3 : Evaluating Bias in Movie Review Sentiment Models\n",
    "# Steps: \n",
    "# 1. Analyze model outputs for genre-based biases.\n",
    "# 2. Use fairness metrics to evaluate model performance across genres.\n",
    "# 3. Explore techniques to reduce genre-related bias."
   ]
  }
 ],
 "metadata": {
  "language_info": {
   "name": "python"
  }
 },
 "nbformat": 4,
 "nbformat_minor": 2
}
