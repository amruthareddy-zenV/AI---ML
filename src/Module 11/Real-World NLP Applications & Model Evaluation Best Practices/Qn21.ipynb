{
 "cells": [
  {
   "cell_type": "code",
   "execution_count": null,
   "metadata": {},
   "outputs": [],
   "source": [
    "# Title : Part 3: Best Practices for Model Evaluation\n",
    "# 1.Using Precision-Recall Curve for Imbalanced Datasets\n",
    "\n",
    "# Task 3 : Evaluating a Spam Filter\n",
    "# Steps:\n",
    "# 1. Train a spam filter on an email dataset.\n",
    "# 2. Analyze the precision-recall metrics.\n",
    "# 3. Use the curve to set an optimal threshold."
   ]
  }
 ],
 "metadata": {
  "language_info": {
   "name": "python"
  }
 },
 "nbformat": 4,
 "nbformat_minor": 2
}
