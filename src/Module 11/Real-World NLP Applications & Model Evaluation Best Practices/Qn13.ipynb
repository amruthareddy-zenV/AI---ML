{
 "cells": [
  {
   "cell_type": "code",
   "execution_count": null,
   "metadata": {},
   "outputs": [],
   "source": [
    "# Title : Part 2: Challenges in NLP Model Evaluation\n",
    "# 2.Dealing with Noisy & Imbalanced Data\n",
    "    \n",
    "# Task 1:Balancing a Spam Detection Dataset\n",
    "# Steps:\n",
    "# 1. Analyze class distributions in a spam detection dataset.\n",
    "# 2. Use techniques like SMOTE for data augmentation.\n",
    "# 3. Re-evaluate model performance on the balanced dataset."
   ]
  }
 ],
 "metadata": {
  "language_info": {
   "name": "python"
  }
 },
 "nbformat": 4,
 "nbformat_minor": 2
}
