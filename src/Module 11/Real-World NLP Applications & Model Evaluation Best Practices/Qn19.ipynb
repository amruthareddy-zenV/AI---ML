{
 "cells": [
  {
   "cell_type": "code",
   "execution_count": null,
   "metadata": {},
   "outputs": [],
   "source": [
    "# Title : Part 3: Best Practices for Model Evaluation\n",
    "# 1.Using Precision-Recall Curve for Imbalanced Datasets\n",
    "\n",
    "# Task 1 : Evaluating a Medical Diagnosis Model\n",
    "# Steps:\n",
    "# 1. Collect an imbalanced medical dataset.\n",
    "# 2. Train a disease prediction model.\n",
    "# 3. Plot and interpret the precision-recall curve."
   ]
  }
 ],
 "metadata": {
  "language_info": {
   "name": "python"
  }
 },
 "nbformat": 4,
 "nbformat_minor": 2
}
