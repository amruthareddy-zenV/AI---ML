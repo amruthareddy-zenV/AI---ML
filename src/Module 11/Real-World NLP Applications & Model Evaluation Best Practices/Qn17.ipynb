{
 "cells": [
  {
   "cell_type": "code",
   "execution_count": null,
   "metadata": {},
   "outputs": [],
   "source": [
    "# Title : Part 2: Challenges in NLP Model Evaluation\n",
    "# 3.Choosing the Right Model Based on Task\n",
    "\n",
    "# Task 2 : Choosing Models for Named Entity Recognition (NER)\n",
    "# Steps:\n",
    "# 1. Consider the trade-off between traditional ML and transformers.\n",
    "# 2. Implement CRF and BERT-based NER models.\n",
    "# 3. Analyze model performance in terms of precision and recall."
   ]
  }
 ],
 "metadata": {
  "language_info": {
   "name": "python"
  }
 },
 "nbformat": 4,
 "nbformat_minor": 2
}
