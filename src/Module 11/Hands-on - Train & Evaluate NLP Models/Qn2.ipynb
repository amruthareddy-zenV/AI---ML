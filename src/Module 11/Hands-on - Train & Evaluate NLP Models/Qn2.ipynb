{
 "cells": [
  {
   "cell_type": "code",
   "execution_count": null,
   "metadata": {},
   "outputs": [],
   "source": [
    "# Title : Implement Sentiment Analysis using Pre-Trained BERT\n",
    "\n",
    "# Step-by-Step Guide:\n",
    "# 1. Load a Pre-Trained BERT Model\n",
    "# Use the transformers library to load a pre-trained BERT model for sentiment analysis.\n",
    "# For this task, you can use the bert-base-uncased model.\n",
    "# 2. Tokenize the Input Text\n",
    "# Convert input text into tokens that the BERT model can understand.\n",
    "# 3. Perform Sentiment Analysis\n",
    "# Pass the tokenized text through the model to get sentiment predictions."
   ]
  }
 ],
 "metadata": {
  "language_info": {
   "name": "python"
  }
 },
 "nbformat": 4,
 "nbformat_minor": 2
}
