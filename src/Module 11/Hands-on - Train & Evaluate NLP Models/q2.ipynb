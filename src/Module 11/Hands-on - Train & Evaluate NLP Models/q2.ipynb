{
 "cells": [
  {
   "cell_type": "code",
   "execution_count": null,
   "metadata": {},
   "outputs": [],
   "source": [
    "# Question 2: Vectorize the Text Data\n",
    "# Description: Transform the text data into numerical features using TfidfVectorizer"
   ]
  }
 ],
 "metadata": {
  "language_info": {
   "name": "python"
  }
 },
 "nbformat": 4,
 "nbformat_minor": 2
}
