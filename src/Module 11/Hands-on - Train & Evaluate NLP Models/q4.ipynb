{
 "cells": [
  {
   "cell_type": "code",
   "execution_count": null,
   "metadata": {},
   "outputs": [],
   "source": [
    "# Question 4: Evaluate the Logistic Regression Model\n",
    "# Description: Evaluate the model using accuracy score on the test data."
   ]
  }
 ],
 "metadata": {
  "language_info": {
   "name": "python"
  }
 },
 "nbformat": 4,
 "nbformat_minor": 2
}
