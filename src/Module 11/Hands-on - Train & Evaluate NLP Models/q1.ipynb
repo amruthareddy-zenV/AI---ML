{
 "cells": [
  {
   "cell_type": "code",
   "execution_count": null,
   "metadata": {},
   "outputs": [],
   "source": [
    "# Question 1: Text Classification with Logistic Regression - Load and Prepare Dataset\n",
    "# Description: Load a basic text dataset and split it into training and testing sets."
   ]
  }
 ],
 "metadata": {
  "language_info": {
   "name": "python"
  }
 },
 "nbformat": 4,
 "nbformat_minor": 2
}
