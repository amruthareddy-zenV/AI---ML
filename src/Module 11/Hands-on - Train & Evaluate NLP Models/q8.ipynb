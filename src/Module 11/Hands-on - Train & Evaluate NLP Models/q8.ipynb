{
 "cells": [
  {
   "cell_type": "code",
   "execution_count": null,
   "metadata": {},
   "outputs": [],
   "source": [
    "# Question 8: Test Pre-Trained BERT on Custom Sentences\n",
    "# Description: Evaluate the sentiment of a list of custom sentences using BERT."
   ]
  }
 ],
 "metadata": {
  "language_info": {
   "name": "python"
  }
 },
 "nbformat": 4,
 "nbformat_minor": 2
}
