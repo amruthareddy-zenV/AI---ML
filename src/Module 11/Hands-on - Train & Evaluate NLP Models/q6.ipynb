{
 "cells": [
  {
   "cell_type": "code",
   "execution_count": null,
   "metadata": {},
   "outputs": [],
   "source": [
    "# Question 6: Hyperparameter Tuning using GridSearchCV\n",
    "# Description: Use GridSearchCV to find the best hyperparameters for the Logistic Regression model."
   ]
  }
 ],
 "metadata": {
  "language_info": {
   "name": "python"
  }
 },
 "nbformat": 4,
 "nbformat_minor": 2
}
