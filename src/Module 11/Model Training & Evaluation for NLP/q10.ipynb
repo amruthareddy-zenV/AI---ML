{
 "cells": [
  {
   "cell_type": "code",
   "execution_count": null,
   "metadata": {},
   "outputs": [],
   "source": [
    "# Question 10: Building an Ensemble Model\n",
    "# Task: Build an ensemble model that combines Logistic Regression, Naive Bayes, and Random Forest using a voting classifier."
   ]
  }
 ],
 "metadata": {
  "language_info": {
   "name": "python"
  }
 },
 "nbformat": 4,
 "nbformat_minor": 2
}
