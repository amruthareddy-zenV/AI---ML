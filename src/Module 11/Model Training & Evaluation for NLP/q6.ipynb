{
 "cells": [
  {
   "cell_type": "code",
   "execution_count": null,
   "metadata": {},
   "outputs": [],
   "source": [
    "# Question 6: Calculating Precision, Recall, and F1-Score\n",
    "# Task: Calculate precision, recall, and F1-score for all three models."
   ]
  }
 ],
 "metadata": {
  "language_info": {
   "name": "python"
  }
 },
 "nbformat": 4,
 "nbformat_minor": 2
}
