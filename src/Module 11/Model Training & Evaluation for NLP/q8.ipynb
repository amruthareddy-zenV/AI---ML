{
 "cells": [
  {
   "cell_type": "code",
   "execution_count": null,
   "metadata": {},
   "outputs": [],
   "source": [
    "# Question 8: Hyperparameter Tuning for Random Forest\n",
    "# Task: Perform hyperparameter tuning for Random Forest using GridSearchCV to optimize n_estimators and max_depth ."
   ]
  }
 ],
 "metadata": {
  "language_info": {
   "name": "python"
  }
 },
 "nbformat": 4,
 "nbformat_minor": 2
}
