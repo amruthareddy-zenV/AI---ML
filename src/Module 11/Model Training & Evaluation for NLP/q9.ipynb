{
 "cells": [
  {
   "cell_type": "code",
   "execution_count": null,
   "metadata": {},
   "outputs": [],
   "source": [
    "# Question 9: Analyze Feature Importance in Random Forest\n",
    "# Task: Analyze the feature importance of the trained Random Forest model and list the top 10 features."
   ]
  }
 ],
 "metadata": {
  "language_info": {
   "name": "python"
  }
 },
 "nbformat": 4,
 "nbformat_minor": 2
}
