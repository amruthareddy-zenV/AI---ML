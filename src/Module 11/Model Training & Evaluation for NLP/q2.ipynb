{
 "cells": [
  {
   "cell_type": "code",
   "execution_count": null,
   "metadata": {},
   "outputs": [],
   "source": [
    "# Question 2: Training a Logistic Regression Model\n",
    "# Task: Train a Logistic Regression model using the preprocessed text data from Question 1."
   ]
  }
 ],
 "metadata": {
  "language_info": {
   "name": "python"
  }
 },
 "nbformat": 4,
 "nbformat_minor": 2
}
