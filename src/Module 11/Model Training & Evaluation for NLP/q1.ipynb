{
 "cells": [
  {
   "cell_type": "code",
   "execution_count": null,
   "metadata": {},
   "outputs": [],
   "source": [
    "# Question 1: Data Preprocessing for Text Classification\n",
    "# Task: Use a simple dataset, such as movie reviews, to preprocess text for NLP tasks. This will involve tokenization, stop-word removal, and vectorization using TF-IDF."
   ]
  }
 ],
 "metadata": {
  "language_info": {
   "name": "python"
  }
 },
 "nbformat": 4,
 "nbformat_minor": 2
}
