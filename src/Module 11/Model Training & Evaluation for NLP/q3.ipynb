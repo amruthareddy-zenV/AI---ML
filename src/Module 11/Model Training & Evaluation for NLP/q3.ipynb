{
 "cells": [
  {
   "cell_type": "code",
   "execution_count": null,
   "metadata": {},
   "outputs": [],
   "source": [
    "# Question 3: Training a Naïve Bayes Model\n",
    "# Task: Train a Naïve Bayes model using the same dataset."
   ]
  }
 ],
 "metadata": {
  "language_info": {
   "name": "python"
  }
 },
 "nbformat": 4,
 "nbformat_minor": 2
}
