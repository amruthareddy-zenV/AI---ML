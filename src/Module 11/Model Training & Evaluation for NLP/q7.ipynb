{
 "cells": [
  {
   "cell_type": "code",
   "execution_count": null,
   "metadata": {},
   "outputs": [],
   "source": [
    "# Question 7: Evaluating Models with ROC-AUC Score\n",
    "# Task: Compute the ROC-AUC score for each model."
   ]
  }
 ],
 "metadata": {
  "language_info": {
   "name": "python"
  }
 },
 "nbformat": 4,
 "nbformat_minor": 2
}
