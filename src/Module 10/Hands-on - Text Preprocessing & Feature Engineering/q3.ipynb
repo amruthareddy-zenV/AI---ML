{
 "cells": [
  {
   "cell_type": "code",
   "execution_count": null,
   "metadata": {},
   "outputs": [],
   "source": [
    "# Question 3: Bag of Words Model\n",
    "# Description: \n",
    "# Implement a simple Bag of Words model to count word frequencies in a collection of documents."
   ]
  }
 ],
 "metadata": {
  "language_info": {
   "name": "python"
  }
 },
 "nbformat": 4,
 "nbformat_minor": 2
}
