{
 "cells": [
  {
   "cell_type": "code",
   "execution_count": null,
   "metadata": {},
   "outputs": [],
   "source": [
    "# Question 2: Tokenization using NLTK\n",
    "# Description: \n",
    "# Use the Natural Language Toolkit (NLTK) library to tokenize sentences and words from a given paragraph."
   ]
  }
 ],
 "metadata": {
  "language_info": {
   "name": "python"
  }
 },
 "nbformat": 4,
 "nbformat_minor": 2
}
