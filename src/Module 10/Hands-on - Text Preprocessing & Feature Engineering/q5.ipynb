{
 "cells": [
  {
   "cell_type": "code",
   "execution_count": null,
   "metadata": {},
   "outputs": [],
   "source": [
    "# Question 5: Introduction to Word Embeddings with Word2Vec\n",
    "# Description: Generate word embeddings using the gensim library's Word2Vec model."
   ]
  }
 ],
 "metadata": {
  "language_info": {
   "name": "python"
  }
 },
 "nbformat": 4,
 "nbformat_minor": 2
}
