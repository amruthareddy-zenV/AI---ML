{
 "cells": [
  {
   "cell_type": "code",
   "execution_count": null,
   "metadata": {},
   "outputs": [],
   "source": [
    "# Title : Basic Text Preprocessing using NLTK\n",
    "# Objective: Learn to perform basic text preprocessing tasks such as tokenization, stopword removal, and lemmatization using NLTK.\n",
    "\n",
    "# Step-by-Step Instructions:\n",
    "# 1. Tokenization using NLTK:\n",
    "# 2. Stopword Removal using NLTK:"
   ]
  }
 ],
 "metadata": {
  "language_info": {
   "name": "python"
  }
 },
 "nbformat": 4,
 "nbformat_minor": 2
}
