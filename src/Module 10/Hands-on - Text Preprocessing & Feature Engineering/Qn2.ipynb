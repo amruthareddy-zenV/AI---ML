{
 "cells": [
  {
   "cell_type": "code",
   "execution_count": null,
   "metadata": {},
   "outputs": [],
   "source": [
    "# Title : Basic Text Preprocessing using SpaCy.\n",
    "# Objective: Learn to perform basic text preprocessing tasks such as tokenization, stopword\n",
    "# removal, and lemmatization using SpaCy.\n",
    "\n",
    "# Steps:\n",
    "# Lemmatization using SpaCy"
   ]
  }
 ],
 "metadata": {
  "language_info": {
   "name": "python"
  }
 },
 "nbformat": 4,
 "nbformat_minor": 2
}
