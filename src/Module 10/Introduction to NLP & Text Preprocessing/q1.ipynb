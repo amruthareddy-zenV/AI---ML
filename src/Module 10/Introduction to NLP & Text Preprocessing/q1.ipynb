{
 "cells": [
  {
   "cell_type": "code",
   "execution_count": null,
   "metadata": {},
   "outputs": [],
   "source": [
    "# Question 1: Word Tokenization in Python\n",
    "# Description: Write a Python program to perform word tokenization on the following text:\n",
    "# \"Natural Language Processing makes machines understand human language.\""
   ]
  }
 ],
 "metadata": {
  "language_info": {
   "name": "python"
  }
 },
 "nbformat": 4,
 "nbformat_minor": 2
}
