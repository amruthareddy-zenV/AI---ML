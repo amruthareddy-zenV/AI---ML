{
 "cells": [
  {
   "cell_type": "code",
   "execution_count": null,
   "metadata": {},
   "outputs": [],
   "source": [
    "# Question 7: TF-IDF Representation using Scikit-learn\n",
    "# Description: Convert the following sentences into TF-IDF representation: \"NLP is fascinating.\"\n",
    "# and \"I am learning NLP.\""
   ]
  }
 ],
 "metadata": {
  "language_info": {
   "name": "python"
  }
 },
 "nbformat": 4,
 "nbformat_minor": 2
}
