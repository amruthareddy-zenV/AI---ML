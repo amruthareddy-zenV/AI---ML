{
 "cells": [
  {
   "cell_type": "code",
   "execution_count": null,
   "metadata": {},
   "outputs": [],
   "source": [
    "# Title : NLP Applications\n",
    "\n",
    "# 2. Sentiment Analysis\n",
    "# Task 1: Use a pre-trained model to determine the sentiment (positive/negative) of a tweet.\n",
    "# Task 2: Analyze customer reviews to classify them as positive or negative.\n",
    "# Task 3: Create a simple Python script using a library like TextBlob to analyze sentiment in a text.\n"
   ]
  }
 ],
 "metadata": {
  "language_info": {
   "name": "python"
  }
 },
 "nbformat": 4,
 "nbformat_minor": 2
}
