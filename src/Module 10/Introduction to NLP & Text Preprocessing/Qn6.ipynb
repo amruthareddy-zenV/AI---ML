{
 "cells": [
  {
   "cell_type": "code",
   "execution_count": null,
   "metadata": {},
   "outputs": [],
   "source": [
    "# Title : Basic Text Preprocessing\n",
    "\n",
    "# 3. Lemmatization vs. Stemming\n",
    "\n",
    "# Task 1: Apply stemming using the Porter Stemmer in NLTK and observe the results.\n",
    "# Task 2: Use spaCy's lemmatizer to process and compare words with their base form.\n",
    "# Task 3: Compare the output of stemming and lemmatization for a list of words."
   ]
  }
 ],
 "metadata": {
  "language_info": {
   "name": "python"
  }
 },
 "nbformat": 4,
 "nbformat_minor": 2
}
