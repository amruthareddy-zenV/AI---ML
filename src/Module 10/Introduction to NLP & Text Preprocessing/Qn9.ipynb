{
 "cells": [
  {
   "cell_type": "code",
   "execution_count": null,
   "metadata": {},
   "outputs": [],
   "source": [
    "# Title : Text Representation Techniques\n",
    "\n",
    "# 2. Term Frequency-Inverse Document Frequency (TF-IDF)\n",
    "\n",
    "# Task 1: Generate TF-IDF values for a small dataset using TfidfVectorizer in Python.\n",
    "# Task 2: Compare the importance of various terms in a corpus using their TF-IDF scores.\n",
    "# Task 3: Use the TF-IDF representation to perform a similarity search on a text dataset.\n"
   ]
  }
 ],
 "metadata": {
  "language_info": {
   "name": "python"
  }
 },
 "nbformat": 4,
 "nbformat_minor": 2
}
