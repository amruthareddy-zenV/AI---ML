{
 "cells": [
  {
   "cell_type": "code",
   "execution_count": null,
   "metadata": {},
   "outputs": [],
   "source": [
    "# Title : Basic Text Preprocessing\n",
    "\n",
    "# 1. Tokenization (Word & Sentence Tokenization)\n",
    "# Task 1: Tokenize a sentence into words using NLTK in Python.\n",
    "# Task 2: Split a paragraph into sentences using spaCy.\n",
    "# Task 3: Example 3: Use the Hugging Face tokenizer to tokenize sentences from a document."
   ]
  }
 ],
 "metadata": {
  "language_info": {
   "name": "python"
  }
 },
 "nbformat": 4,
 "nbformat_minor": 2
}
