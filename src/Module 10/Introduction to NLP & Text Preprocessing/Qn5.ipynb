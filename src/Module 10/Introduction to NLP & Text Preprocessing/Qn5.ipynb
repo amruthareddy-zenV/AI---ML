{
 "cells": [
  {
   "cell_type": "code",
   "execution_count": null,
   "metadata": {},
   "outputs": [],
   "source": [
    "# Title : Basic Text Preprocessing\n",
    "\n",
    "# 2. Stopword Removal\n",
    "\n",
    "# Task 1: Identify and remove stopwords from a sentence using NLTK.\n",
    "# Task 2: Use spaCy to exclude stopwords from processing a list of words.\n",
    "# Task 3: Create a custom list of stopwords and remove them from a text."
   ]
  }
 ],
 "metadata": {
  "language_info": {
   "name": "python"
  }
 },
 "nbformat": 4,
 "nbformat_minor": 2
}
