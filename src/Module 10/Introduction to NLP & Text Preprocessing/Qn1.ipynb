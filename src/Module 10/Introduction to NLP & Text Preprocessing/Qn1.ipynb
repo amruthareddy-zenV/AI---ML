{
 "cells": [
  {
   "cell_type": "code",
   "execution_count": null,
   "metadata": {},
   "outputs": [],
   "source": [
    "# Title : NLP Applications\n",
    "\n",
    "# 1. Chatbots\n",
    "# Task 1: Explore a simple chatbot using a rule-based approach to answer greetings.\n",
    "# Task 2: Analyze a chatbot's response to frequently asked questions in customer service.\n",
    "# Task 3: Build a simple chatbot using a conversational AI platform like Dialogflow or Rasa.\n",
    "\n"
   ]
  }
 ],
 "metadata": {
  "language_info": {
   "name": "python"
  }
 },
 "nbformat": 4,
 "nbformat_minor": 2
}
