{
 "cells": [
  {
   "cell_type": "code",
   "execution_count": null,
   "metadata": {},
   "outputs": [],
   "source": [
    "# Question 5: Removing Punctuation and Special Characters\n",
    "# Description: Remove punctuation and special characters from \"Hello, world! Isn't NLP\n",
    "# amazing?\""
   ]
  }
 ],
 "metadata": {
  "language_info": {
   "name": "python"
  }
 },
 "nbformat": 4,
 "nbformat_minor": 2
}
