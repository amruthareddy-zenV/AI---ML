{
 "cells": [
  {
   "cell_type": "code",
   "execution_count": null,
   "metadata": {},
   "outputs": [],
   "source": [
    "# Question 8: Practical Application - Sentiment Analysis\n",
    "# Description: Perform a very basic sentiment analysis using the TextBlob library on the\n",
    "# sentence: \"I am not happy with the service.\""
   ]
  }
 ],
 "metadata": {
  "language_info": {
   "name": "python"
  }
 },
 "nbformat": 4,
 "nbformat_minor": 2
}
