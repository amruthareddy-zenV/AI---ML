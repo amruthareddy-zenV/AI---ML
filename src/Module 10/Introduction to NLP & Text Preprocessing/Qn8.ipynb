{
 "cells": [
  {
   "cell_type": "code",
   "execution_count": null,
   "metadata": {},
   "outputs": [],
   "source": [
    "# Title : Text Representation Techniques\n",
    "\n",
    "# 1. Bag of Words (BoW)\n",
    "\n",
    "# Task 1: Create a Bag of Words model from a simple corpus using Python's CountVectorizer .\n",
    "# Task 2: Visualize the word frequencies in a document by generating a Bag of Words.\n",
    "# Task 3: Use the BoW model to compare textual similarity between two short documents.\n"
   ]
  }
 ],
 "metadata": {
  "language_info": {
   "name": "python"
  }
 },
 "nbformat": 4,
 "nbformat_minor": 2
}
