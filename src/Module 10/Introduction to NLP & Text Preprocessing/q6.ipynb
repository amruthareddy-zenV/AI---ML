{
 "cells": [
  {
   "cell_type": "code",
   "execution_count": null,
   "metadata": {},
   "outputs": [],
   "source": [
    "# Question 6: Bag of Words Representation using Scikit-learn\n",
    "# Description: Convert the following documents into a Bag of Words representation: \"I love NLP.\"\n",
    "# and \"NLP is fun.\""
   ]
  }
 ],
 "metadata": {
  "language_info": {
   "name": "python"
  }
 },
 "nbformat": 4,
 "nbformat_minor": 2
}
