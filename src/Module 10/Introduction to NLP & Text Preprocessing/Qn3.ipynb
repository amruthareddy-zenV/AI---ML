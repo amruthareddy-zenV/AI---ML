{
 "cells": [
  {
   "cell_type": "code",
   "execution_count": null,
   "metadata": {},
   "outputs": [],
   "source": [
    "# Title : NLP Applications\n",
    "\n",
    "# 3. Machine Translation\n",
    "# Task 1: Translate a simple text from English to Spanish using Google Translate API.\n",
    "# Task 2: Use a pre-trained model like OpenNMT to translate sentences from French to English.\n",
    "# Task 3: Explore language translation features in cloud-based NLP services like AWS Translate."
   ]
  }
 ],
 "metadata": {
  "language_info": {
   "name": "python"
  }
 },
 "nbformat": 4,
 "nbformat_minor": 2
}
