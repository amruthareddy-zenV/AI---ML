{
 "cells": [
  {
   "cell_type": "code",
   "execution_count": null,
   "metadata": {},
   "outputs": [],
   "source": [
    "# Title : Basic Text Preprocessing\n",
    "\n",
    "# 4. Punctuation & Special Character Removal\n",
    "\n",
    "# Task 1: Write a Python function to remove punctuation from a string.\n",
    "# Task 2: Use regular expressions (regex) to clean a text by removing special characters.\n",
    "# Task 3: Apply a text cleaner library, such as clean-text , to remove both punctuation and special characters.\n"
   ]
  }
 ],
 "metadata": {
  "language_info": {
   "name": "python"
  }
 },
 "nbformat": 4,
 "nbformat_minor": 2
}
