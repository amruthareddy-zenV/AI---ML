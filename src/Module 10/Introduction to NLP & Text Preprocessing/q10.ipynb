{
 "cells": [
  {
   "cell_type": "code",
   "execution_count": null,
   "metadata": {},
   "outputs": [],
   "source": [
    "# Question 10: Basic Machine Translation using Googletrans\n",
    "# Description: Use the googletrans library to translate the sentence \"I love programming.\"\n",
    "# from English to French."
   ]
  }
 ],
 "metadata": {
  "language_info": {
   "name": "python"
  }
 },
 "nbformat": 4,
 "nbformat_minor": 2
}
