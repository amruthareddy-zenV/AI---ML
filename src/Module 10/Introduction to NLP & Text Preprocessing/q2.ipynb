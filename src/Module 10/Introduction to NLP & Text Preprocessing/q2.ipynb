{
 "cells": [
  {
   "cell_type": "code",
   "execution_count": null,
   "metadata": {},
   "outputs": [],
   "source": [
    "# Question 2: Sentence Tokenization\n",
    "# Description: Use NLTK to tokenize the following paragraph into sentences: \"NLP stands for\n",
    "# Natural Language Processing. It is a fascinating field of AI.\""
   ]
  }
 ],
 "metadata": {
  "language_info": {
   "name": "python"
  }
 },
 "nbformat": 4,
 "nbformat_minor": 2
}
