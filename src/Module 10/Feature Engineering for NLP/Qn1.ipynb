{
 "cells": [
  {
   "cell_type": "code",
   "execution_count": null,
   "metadata": {},
   "outputs": [],
   "source": [
    "# Title : Word Embeddings (Vectorization of Text)\n",
    "\n",
    "# A. Word2Vec\n",
    "\n",
    "# Task 1: Training Word2Vec on a Sample Text Data\n",
    "# Objective: Train a Word2Vec model on a small sample text dataset.\n",
    "# Steps:\n",
    "#     1.Split a sample text into sentences.\n",
    "#     2.Tokenize the sentences.\n",
    "#     3.Train a Word2Vec model using the Gensim library.\n",
    "#     4.Inspect the learned word vectors by finding similar words.\n",
    "\n",
    "# Task 2: Using Pre-trained Word2Vec Model\n",
    "# Objective: Utilize a pre-trained Word2Vec model to get vectors and find word similarities.\n",
    "# Steps:\n",
    "#     1.Load the Google News Word2Vec pre-trained model using Gensim.\n",
    "#     2.Query similar words to a given word using the model.\n",
    "#     3.Visualize the similarity using distance metrics.\n",
    "\n",
    "# Task 3: Visualizing Word Relationships\n",
    "# Objective: Visualize word relationships learned by Word2Vec using PCA.\n",
    "# Steps:\n",
    "#     1.Collect vectors for a set of words.\n",
    "#     2.Apply PCA for dimensionality reduction to 2D.\n",
    "#     3.Plot the words in a 2D space to explore relationships."
   ]
  }
 ],
 "metadata": {
  "language_info": {
   "name": "python"
  }
 },
 "nbformat": 4,
 "nbformat_minor": 2
}
