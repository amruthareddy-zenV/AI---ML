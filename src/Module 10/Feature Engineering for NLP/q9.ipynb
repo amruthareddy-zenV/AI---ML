{
 "cells": [
  {
   "cell_type": "code",
   "execution_count": null,
   "metadata": {},
   "outputs": [],
   "source": [
    "# Question 9: Dimensionality Reduction of High-Dimensional Text Data using T-SNE\n",
    "# Description:\n",
    "# Visualize high-dimensional word embeddings using t-SNE reduction technique for better insights."
   ]
  }
 ],
 "metadata": {
  "language_info": {
   "name": "python"
  }
 },
 "nbformat": 4,
 "nbformat_minor": 2
}
