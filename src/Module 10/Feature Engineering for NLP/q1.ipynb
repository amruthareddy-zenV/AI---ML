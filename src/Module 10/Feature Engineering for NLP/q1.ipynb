{
 "cells": [
  {
   "cell_type": "code",
   "execution_count": null,
   "metadata": {},
   "outputs": [],
   "source": [
    "# Question 1: Understanding Word2Vec\n",
    "# Description:\n",
    "# Learn to train a basic Word2Vec model using a simple text corpus."
   ]
  }
 ],
 "metadata": {
  "language_info": {
   "name": "python"
  }
 },
 "nbformat": 4,
 "nbformat_minor": 2
}
