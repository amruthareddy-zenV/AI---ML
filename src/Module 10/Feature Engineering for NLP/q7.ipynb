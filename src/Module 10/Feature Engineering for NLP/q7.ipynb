{
 "cells": [
  {
   "cell_type": "code",
   "execution_count": null,
   "metadata": {},
   "outputs": [],
   "source": [
    "# Question 7: Dimensionality Reduction of Word Embeddings with PCA\n",
    "# Description:\n",
    "# Reduce dimensions of word embeddings using Principal Component Analysis (PCA) and visualize."
   ]
  }
 ],
 "metadata": {
  "language_info": {
   "name": "python"
  }
 },
 "nbformat": 4,
 "nbformat_minor": 2
}
