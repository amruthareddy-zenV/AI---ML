{
 "cells": [
  {
   "cell_type": "code",
   "execution_count": null,
   "metadata": {},
   "outputs": [],
   "source": [
    "# Title : Word Embeddings (Vectorization of Text)\n",
    "\n",
    "# C. FastText\n",
    "\n",
    "# Task 1: Training a FastText Model\n",
    "# Objective: Train a FastText model on sample data.\n",
    "# Steps:\n",
    "#     1.Prepare a text corpus.\n",
    "#     2.Train a FastText model using the Gensim library.\n",
    "#     3.Evaluate word similarities and explore behavior on unseen words.\n",
    "\n",
    "# Task 2: Use Pre-trained FastText for Misspelled Words\n",
    "# Objective: Explore word vector similarities for misspelled words using FastText.\n",
    "# Steps:\n",
    "#     1.Load pre-trained FastText vectors.\n",
    "#     2.Query both correctly spelled and misspelled versions of a word.\n",
    "#     3.Analyze the ability of FastText to find meaningful similarities\n",
    "\n",
    "# Task 3: Subword Information with FastText\n",
    "# Objective: Show how subword information impacts word vectors.\n",
    "# Steps:\n",
    "#     1.Compare vector similarities for morphologically related words.\n",
    "#     2.E.g., compare \"run\", \"runner\", \"running\".\n",
    "#     3.Visualize results in a 2D plot after applying PCA."
   ]
  }
 ],
 "metadata": {
  "language_info": {
   "name": "python"
  }
 },
 "nbformat": 4,
 "nbformat_minor": 2
}
