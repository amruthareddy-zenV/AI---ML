{
 "cells": [
  {
   "cell_type": "code",
   "execution_count": null,
   "metadata": {},
   "outputs": [],
   "source": [
    "# Title : Word Embeddings (Vectorization of Text)\n",
    "\n",
    "# B. GloVe\n",
    "\n",
    "# Task 1: Using Pre-trained GloVe Vector\n",
    "# Objective: Load and use pre-trained GloVe vectors.\n",
    "# Steps:\n",
    "#     1.Download a set of GloVe vectors (e.g., Glove.6B).\n",
    "#     2.Load the vectors into a Python dictionary.\n",
    "#     3.Retrieve and manipulate vector representations of words.\n",
    "\n",
    "# Task 2: Analyzing Word Similarity Using GloVe\n",
    "# Objective: Perform similarity analysis using GloVe vectors.\n",
    "# Steps:\n",
    "#     1.Compute the cosine similarity between two sets of word vectors.\n",
    "#     2.Compare similarities for different words.\n",
    "#     3.Visualize the closest words for a given word using a bar chart.\n",
    "\n",
    "# Task 3: Visual Comparison of GloVe and Word2Vec\n",
    "# Objective: Compare word vectors from GloVe and Word2Vec for the same words.\n",
    "# Steps:\n",
    "#     1.Select a list of words and retrieve their vectors from both models.\n",
    "#     2.Use PCA to reduce dimensions and plot in 2D.\n",
    "#     3.Discuss the similarities/differences in spatial arrangements."
   ]
  }
 ],
 "metadata": {
  "language_info": {
   "name": "python"
  }
 },
 "nbformat": 4,
 "nbformat_minor": 2
}
