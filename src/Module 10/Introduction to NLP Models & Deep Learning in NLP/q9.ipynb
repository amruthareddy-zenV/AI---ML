{
 "cells": [
  {
   "cell_type": "code",
   "execution_count": null,
   "metadata": {},
   "outputs": [],
   "source": [
    "# Question 9: Build a Custom Preprocessor Function with NLTK and SpaCy\n",
    "# Description: Create a custom preprocessing function that tokenizes, removes stop words, and lemmatizes text using NLTK and SpaCy."
   ]
  }
 ],
 "metadata": {
  "language_info": {
   "name": "python"
  }
 },
 "nbformat": 4,
 "nbformat_minor": 2
}
