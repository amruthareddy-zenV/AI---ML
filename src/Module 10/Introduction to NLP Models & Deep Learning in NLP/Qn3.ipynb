{
 "cells": [
  {
   "cell_type": "code",
   "execution_count": null,
   "metadata": {},
   "outputs": [],
   "source": [
    "# Title : Part 1: Types of NLP Models\n",
    "\n",
    "# 3. Deep Learning-Based Models:\n",
    "\n",
    "# Task 1: Build a simple feedforward neural network for text classification using TensorFlow or PyTorch .\n",
    "# Task 2: Implement a Convolutional Neural Network (CNN) for sentiment analysis, adapting it for text data.\n",
    "# Task 3: Train a basic Recurrent Neural Network (RNN) for sequence prediction tasks.\n",
    "  \n",
    "\n"
   ]
  }
 ],
 "metadata": {
  "language_info": {
   "name": "python"
  }
 },
 "nbformat": 4,
 "nbformat_minor": 2
}
