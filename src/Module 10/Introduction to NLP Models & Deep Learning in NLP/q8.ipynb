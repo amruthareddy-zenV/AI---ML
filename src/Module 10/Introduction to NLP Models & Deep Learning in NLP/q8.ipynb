{
 "cells": [
  {
   "cell_type": "code",
   "execution_count": null,
   "metadata": {},
   "outputs": [],
   "source": [
    "# Question 8: Create a Word Cloud using Tokenized Text\n",
    "# Description: Visualize the frequency of words using a word cloud from a tokenized text."
   ]
  }
 ],
 "metadata": {
  "language_info": {
   "name": "python"
  }
 },
 "nbformat": 4,
 "nbformat_minor": 2
}
