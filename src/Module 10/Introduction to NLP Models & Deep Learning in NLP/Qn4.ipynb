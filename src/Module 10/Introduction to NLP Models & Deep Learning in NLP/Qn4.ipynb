{
 "cells": [
  {
   "cell_type": "code",
   "execution_count": null,
   "metadata": {},
   "outputs": [],
   "source": [
    "# Title : Part 2: Deep Learning Architectures for NLP\n",
    "\n",
    "# 1. Recurrent Neural Networks (RNNs):\n",
    "# Task 1: Implement a basic RNN to generate text sequences using TensorFlow or PyTorch .\n",
    "# Task 2: Use an RNN for language modeling to predict the probability of a word sequence.\n",
    "# Task 3: Apply an RNN to perform machine translation on a small dataset."
   ]
  }
 ],
 "metadata": {
  "language_info": {
   "name": "python"
  }
 },
 "nbformat": 4,
 "nbformat_minor": 2
}
