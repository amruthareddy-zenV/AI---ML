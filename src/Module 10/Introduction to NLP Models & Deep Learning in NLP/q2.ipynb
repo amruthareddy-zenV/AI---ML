{
 "cells": [
  {
   "cell_type": "code",
   "execution_count": null,
   "metadata": {},
   "outputs": [],
   "source": [
    "# Question 2: Remove Stop Words using NLTK\n",
    "# Description: Stop words are commonly used words (e.g., \"the\", \"is\") that don’t carry meaningful information. Remove stop words from a given text using NLTK."
   ]
  }
 ],
 "metadata": {
  "language_info": {
   "name": "python"
  }
 },
 "nbformat": 4,
 "nbformat_minor": 2
}
