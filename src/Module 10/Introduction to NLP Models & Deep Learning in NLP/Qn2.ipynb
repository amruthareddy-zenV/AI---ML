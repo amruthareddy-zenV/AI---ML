{
 "cells": [
  {
   "cell_type": "code",
   "execution_count": null,
   "metadata": {},
   "outputs": [],
   "source": [
    "# Title : Part 1: Types of NLP Models\n",
    "\n",
    "# 2. Machine Learning-Based Models:\n",
    "\n",
    "# Task 1: Implement a Naive Bayes classifier for text classification using the scikit- learn library.\n",
    "# Task 2: Train a Support Vector Machine (SVM) model to categorize movie reviews into positive and negative sentiments.\n",
    "# Task 3: Use a Decision Tree model to classify texts into different categories, such as news topics.\n"
   ]
  }
 ],
 "metadata": {
  "language_info": {
   "name": "python"
  }
 },
 "nbformat": 4,
 "nbformat_minor": 2
}
