{
 "cells": [
  {
   "cell_type": "code",
   "execution_count": null,
   "metadata": {},
   "outputs": [],
   "source": [
    "# Title : Part 3: Pre-Trained NLP Models (BERT, GPT, T5)\n",
    "\n",
    "# 2. How to Fine-Tune Them for NLP Tasks:\n",
    "\n",
    "# Task 1: Fine-tune a pre-trained BERT model for a question-answering task using the Hugging Face Transformers library.\n",
    "# Task 2: Adapt a GPT model for creative text generation by training it on a new  dataset.\n",
    "# Task 3: Fine-tune a T5 model for a summarization task to generate concise summaries of longer texts.\n",
    "\n"
   ]
  }
 ],
 "metadata": {
  "language_info": {
   "name": "python"
  }
 },
 "nbformat": 4,
 "nbformat_minor": 2
}
