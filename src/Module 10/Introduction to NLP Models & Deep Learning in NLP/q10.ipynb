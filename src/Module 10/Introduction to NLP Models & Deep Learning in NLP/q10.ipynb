{
 "cells": [
  {
   "cell_type": "code",
   "execution_count": null,
   "metadata": {},
   "outputs": [],
   "source": [
    "# Question 10: Sentiment Analysis on Preprocessed Text using a Pre- trained Model\n",
    "# Description: Perform sentiment analysis using a pre-trained sentiment analysis model on the preprocessed text."
   ]
  }
 ],
 "metadata": {
  "language_info": {
   "name": "python"
  }
 },
 "nbformat": 4,
 "nbformat_minor": 2
}
