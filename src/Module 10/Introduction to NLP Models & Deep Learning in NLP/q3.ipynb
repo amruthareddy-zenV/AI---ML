{
 "cells": [
  {
   "cell_type": "code",
   "execution_count": null,
   "metadata": {},
   "outputs": [],
   "source": [
    "# Question 3: Lemmatize Words using SpaCy\n",
    "# Description: Lemmatization is the process of reducing words to their base or root form. Use SpaCy to lemmatize the tokens from the sentence."
   ]
  }
 ],
 "metadata": {
  "language_info": {
   "name": "python"
  }
 },
 "nbformat": 4,
 "nbformat_minor": 2
}
