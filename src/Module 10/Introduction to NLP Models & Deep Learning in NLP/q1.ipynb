{
 "cells": [
  {
   "cell_type": "code",
   "execution_count": null,
   "metadata": {},
   "outputs": [],
   "source": [
    "# Question 1: Tokenize Text using NLTK\n",
    "# Description: Tokenization is the process of splitting text into individual words or tokens. Use the NLTK library to tokenize a simple sentence."
   ]
  }
 ],
 "metadata": {
  "language_info": {
   "name": "python"
  }
 },
 "nbformat": 4,
 "nbformat_minor": 2
}
