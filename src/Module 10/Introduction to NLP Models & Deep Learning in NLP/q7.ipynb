{
 "cells": [
  {
   "cell_type": "code",
   "execution_count": null,
   "metadata": {},
   "outputs": [],
   "source": [
    "# Question 7: Convert Text into TF-IDF Vectors using sklearn\n",
    "# Description: Use TF-IDF to transform text data into feature vectors that can be used for machine learning."
   ]
  }
 ],
 "metadata": {
  "language_info": {
   "name": "python"
  }
 },
 "nbformat": 4,
 "nbformat_minor": 2
}
