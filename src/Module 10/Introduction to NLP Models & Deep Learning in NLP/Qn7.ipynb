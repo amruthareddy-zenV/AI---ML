{
 "cells": [
  {
   "cell_type": "code",
   "execution_count": null,
   "metadata": {},
   "outputs": [],
   "source": [
    "# Title : Part 3: Pre-Trained NLP Models (BERT, GPT, T5)\n",
    "\n",
    "# 1. How They Work:\n",
    "\n",
    "# Task 1: Study the BERT architecture by analyzing its encoder stack and self- attention mechanism.\n",
    "# Task 2: Understand the transformer decoder mechanism in GPT and how it generates text.\n",
    "# Task 3: Analyze T5's approach to converting all NLP tasks into a text-to-text format."
   ]
  }
 ],
 "metadata": {
  "language_info": {
   "name": "python"
  }
 },
 "nbformat": 4,
 "nbformat_minor": 2
}
