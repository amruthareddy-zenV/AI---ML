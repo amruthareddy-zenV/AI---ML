{
 "cells": [
  {
   "cell_type": "code",
   "execution_count": null,
   "metadata": {},
   "outputs": [],
   "source": [
    "# Title : Part 1: Types of NLP Models\n",
    "\n",
    "# 1. Rule-Based Models:\n",
    "\n",
    "# Task 1: Create a simple rule-based model to identify and extract dates from a text using regular expressions. Implement this using Python's re library.\n",
    "# Task 2: Design rules to perform basic sentiment analysis by identifying positive and negative keywords in a sentence.\n",
    "# Task 3: Develop a rule-based chatbot that uses a series of predefined rules to match user inputs to responses.\n",
    " "
   ]
  }
 ],
 "metadata": {
  "language_info": {
   "name": "python"
  }
 },
 "nbformat": 4,
 "nbformat_minor": 2
}
