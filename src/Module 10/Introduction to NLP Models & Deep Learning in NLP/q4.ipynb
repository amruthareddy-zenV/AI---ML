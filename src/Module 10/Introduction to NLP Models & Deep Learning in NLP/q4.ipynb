{
 "cells": [
  {
   "cell_type": "code",
   "execution_count": null,
   "metadata": {},
   "outputs": [],
   "source": [
    "# Question 4: Part-of-Speech Tagging with SpaCy\n",
    "# Description: Identify the grammatical category (Noun, Verb, etc.) of each word in a sentence  using SpaCy."
   ]
  }
 ],
 "metadata": {
  "language_info": {
   "name": "python"
  }
 },
 "nbformat": 4,
 "nbformat_minor": 2
}
